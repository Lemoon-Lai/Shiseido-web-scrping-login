{
 "cells": [
  {
   "cell_type": "code",
   "execution_count": 21,
   "metadata": {},
   "outputs": [],
   "source": [
    "from bs4 import BeautifulSoup\n",
    "from urllib.request import urlopen"
   ]
  },
  {
   "cell_type": "code",
   "execution_count": 22,
   "metadata": {},
   "outputs": [],
   "source": [
    "import requests\n",
    "import json"
   ]
  },
  {
   "cell_type": "code",
   "execution_count": 23,
   "metadata": {},
   "outputs": [],
   "source": [
    "html = urlopen('https://www.shiseido.co.uk/gb/en/skincare/category/days-creams/')"
   ]
  },
  {
   "cell_type": "code",
   "execution_count": 24,
   "metadata": {},
   "outputs": [
    {
     "name": "stdout",
     "output_type": "stream",
     "text": [
      "<http.client.HTTPResponse object at 0x0000021CE1B527C0>\n"
     ]
    }
   ],
   "source": [
    "print(html)"
   ]
  },
  {
   "cell_type": "code",
   "execution_count": 25,
   "metadata": {},
   "outputs": [],
   "source": [
    "soup = BeautifulSoup(html, 'lxml')"
   ]
  },
  {
   "cell_type": "code",
   "execution_count": 26,
   "metadata": {},
   "outputs": [
    {
     "name": "stdout",
     "output_type": "stream",
     "text": [
      "<h3>CUSTOMER CARE</h3>\n",
      "<h4 class=\"product-range-name\">\n",
      "VITAL PERFECTION\n",
      "</h4>\n"
     ]
    }
   ],
   "source": [
    "print(soup.h3)\n",
    "print(soup.h4)"
   ]
  },
  {
   "cell_type": "code",
   "execution_count": 27,
   "metadata": {},
   "outputs": [
    {
     "name": "stdout",
     "output_type": "stream",
     "text": [
      "\n",
      "Intensive WrinkleSpot Treatment\n",
      "\n",
      "\n",
      "Wrinkle Smoothing Cream\n",
      "\n",
      "\n",
      "Brightening Gel Cream\n",
      "\n",
      "\n",
      "Colour-Smart Day Moisturiser Oil-Free\n",
      "\n",
      "\n",
      "Moisturising Cream\n",
      "\n",
      "\n",
      "Clear Mega-Hydrating Cream\n",
      "\n",
      "\n",
      "Quick Matte Moisturiser Oil-Free\n",
      "\n",
      "\n",
      "Moisturising Gel Cream\n",
      "\n",
      "\n",
      "Total Regenerating Cream\n",
      "\n",
      "\n",
      "Uplifting and Firming Cream\n",
      "\n",
      "\n",
      "£90.00\n",
      "\n",
      "\n",
      "£77.00\n",
      "\n",
      "\n",
      "£70.00\n",
      "\n",
      "\n",
      "£35.00\n",
      "\n",
      "\n",
      "£62.00\n",
      "\n",
      "\n",
      "£35.00\n",
      "\n",
      "\n",
      "£35.00\n",
      "\n",
      "\n",
      "£62.00\n",
      "\n",
      "\n",
      "£306.00\n",
      "\n",
      "\n",
      "£124.00\n",
      "\n"
     ]
    }
   ],
   "source": [
    "name = soup.find_all('h3', {'class', 'product-name'})\n",
    "for n in name:\n",
    "    print(n.get_text())\n",
    "    \n",
    "price = soup.find_all('h2', {'class', 'price-sales'})\n",
    "for p in price:\n",
    "    print(p.get_text())"
   ]
  },
  {
   "cell_type": "code",
   "execution_count": 28,
   "metadata": {},
   "outputs": [],
   "source": [
    "import re"
   ]
  },
  {
   "cell_type": "code",
   "execution_count": 29,
   "metadata": {},
   "outputs": [
    {
     "name": "stdout",
     "output_type": "stream",
     "text": [
      "\n",
      " <img alt=\"Intensive WrinkleSpot Treatment - SHISEIDO, New Arrivals\" class=\"thumb-image\" src=\"https://www.shiseido.co.uk/dw/image/v2/BCMQ_PRD/on/demandware.static/-/Sites-itemmaster_shiseido_emea/default/dw36334459/images/pdp-images/21SS/VPN/IntensiveWrinkleSpotTreatment1.jpg?sw=305&amp;sh=305&amp;sm=fit\" title=\"Intensive WrinkleSpot Treatment - SHISEIDO, New Arrivals\"/>\n",
      "\n",
      " <img alt=\"Wrinkle Smoothing Cream - Shiseido, Days Creams\" class=\"thumb-image\" src=\"https://www.shiseido.co.uk/dw/image/v2/BCMQ_PRD/on/demandware.static/-/Sites-itemmaster_shiseido_emea/default/dw0b6d3956/images/pdp-images/20AW/TOP20/Wrinkle Smoothing Cream/768614149538.jpg?sw=305&amp;sh=305&amp;sm=fit\" title=\"Wrinkle Smoothing Cream - Shiseido, Days Creams\"/>\n",
      "\n",
      " <img alt=\"Brightening Gel Cream - Shiseido, Day &amp; Night Creams\" class=\"thumb-image\" src=\"https://www.shiseido.co.uk/dw/image/v2/BCMQ_PRD/on/demandware.static/-/Sites-itemmaster_shiseido_emea/default/dw1dfecde8/images/products/14932/14932_S_01.jpg?sw=305&amp;sh=305&amp;sm=fit\" title=\"Brightening Gel Cream - Shiseido, Day &amp; Night Creams\"/>\n",
      "\n",
      " <img alt=\"Colour-Smart Day Moisturiser Oil-Free - Shiseido, Makeup &amp; Tinted Care\" class=\"thumb-image\" src=\"https://www.shiseido.co.uk/dw/image/v2/BCMQ_PRD/on/demandware.static/-/Sites-itemmaster_shiseido_emea/default/dw28bea738/images/products/13963/13963_A_01.jpg?sw=305&amp;sh=305&amp;sm=fit\" title=\"Colour-Smart Day Moisturiser Oil-Free - Shiseido, Makeup &amp; Tinted Care\"/>\n",
      "\n",
      " <img alt=\"Moisturising Cream - Shiseido, Day &amp; Night Creams\" class=\"thumb-image\" src=\"https://www.shiseido.co.uk/dw/image/v2/BCMQ_PRD/on/demandware.static/-/Sites-itemmaster_shiseido_emea/default/dw2bd0c621/images/products/14321/14321_S_01.jpg?sw=305&amp;sh=305&amp;sm=fit\" title=\"Moisturising Cream - Shiseido, Day &amp; Night Creams\"/>\n",
      "\n",
      " <img alt=\"Clear Mega-Hydrating Cream - Shiseido, WASO\" class=\"thumb-image\" src=\"https://www.shiseido.co.uk/dw/image/v2/BCMQ_PRD/on/demandware.static/-/Sites-itemmaster_shiseido_emea/default/dw95cd24fe/images/products/13958/13958_S_01.jpg?sw=305&amp;sh=305&amp;sm=fit\" title=\"Clear Mega-Hydrating Cream - Shiseido, WASO\"/>\n",
      "\n",
      " <img alt=\"Quick Matte Moisturiser Oil-Free - Shiseido, Days Creams\" class=\"thumb-image\" src=\"https://www.shiseido.co.uk/dw/image/v2/BCMQ_PRD/on/demandware.static/-/Sites-itemmaster_shiseido_emea/default/dw5931cef6/images/products/13960/13960_S_01.jpg?sw=305&amp;sh=305&amp;sm=fit\" title=\"Quick Matte Moisturiser Oil-Free - Shiseido, Days Creams\"/>\n",
      "\n",
      " <img alt=\"Moisturising Gel Cream - Shiseido, Day &amp; Night Creams\" class=\"thumb-image\" src=\"https://www.shiseido.co.uk/dw/image/v2/BCMQ_PRD/on/demandware.static/-/Sites-itemmaster_shiseido_emea/default/dwd529ce66/images/products/14322/14322_S_01.jpg?sw=305&amp;sh=305&amp;sm=fit\" title=\"Moisturising Gel Cream - Shiseido, Day &amp; Night Creams\"/>\n",
      "\n",
      " <img alt=\"Total Regenerating Cream - Shiseido, Day &amp; Night Creams\" class=\"thumb-image\" src=\"https://www.shiseido.co.uk/dw/image/v2/BCMQ_PRD/on/demandware.static/-/Sites-itemmaster_shiseido_emea/default/dwe53c353b/images/products/13921/13921_S_01.jpg?sw=305&amp;sh=305&amp;sm=fit\" title=\"Total Regenerating Cream - Shiseido, Day &amp; Night Creams\"/>\n",
      "\n",
      " <img alt=\"Uplifting and Firming Cream - Shiseido, \" class=\"thumb-image\" src=\"https://www.shiseido.co.uk/dw/image/v2/BCMQ_PRD/on/demandware.static/-/Sites-itemmaster_shiseido_emea/default/dwac94e682/images/products/768614149392/Vital_perfection-Uplifting&amp;firming-cream-Shiseido.jpg?sw=305&amp;sh=305&amp;sm=fit\" title=\"Uplifting and Firming Cream - Shiseido, \"/>\n"
     ]
    }
   ],
   "source": [
    "img_links = soup.find_all('img', {'class': 'thumb-image'})\n",
    "for link in img_links:\n",
    "    print('\\n', link)"
   ]
  },
  {
   "cell_type": "code",
   "execution_count": 30,
   "metadata": {},
   "outputs": [
    {
     "name": "stdout",
     "output_type": "stream",
     "text": [
      "https://www.shiseido.co.uk/dw/image/v2/BCMQ_PRD/on/demandware.static/-/Sites-itemmaster_shiseido_emea/default/dw36334459/images/pdp-images/21SS/VPN/IntensiveWrinkleSpotTreatment1.jpg?sw=305&sh=305&sm=fit\n",
      "https://www.shiseido.co.uk/dw/image/v2/BCMQ_PRD/on/demandware.static/-/Sites-itemmaster_shiseido_emea/default/dw0b6d3956/images/pdp-images/20AW/TOP20/Wrinkle Smoothing Cream/768614149538.jpg?sw=305&sh=305&sm=fit\n",
      "https://www.shiseido.co.uk/dw/image/v2/BCMQ_PRD/on/demandware.static/-/Sites-itemmaster_shiseido_emea/default/dw1dfecde8/images/products/14932/14932_S_01.jpg?sw=305&sh=305&sm=fit\n",
      "https://www.shiseido.co.uk/dw/image/v2/BCMQ_PRD/on/demandware.static/-/Sites-itemmaster_shiseido_emea/default/dw28bea738/images/products/13963/13963_A_01.jpg?sw=305&sh=305&sm=fit\n",
      "https://www.shiseido.co.uk/dw/image/v2/BCMQ_PRD/on/demandware.static/-/Sites-itemmaster_shiseido_emea/default/dw2bd0c621/images/products/14321/14321_S_01.jpg?sw=305&sh=305&sm=fit\n",
      "https://www.shiseido.co.uk/dw/image/v2/BCMQ_PRD/on/demandware.static/-/Sites-itemmaster_shiseido_emea/default/dw95cd24fe/images/products/13958/13958_S_01.jpg?sw=305&sh=305&sm=fit\n",
      "https://www.shiseido.co.uk/dw/image/v2/BCMQ_PRD/on/demandware.static/-/Sites-itemmaster_shiseido_emea/default/dw5931cef6/images/products/13960/13960_S_01.jpg?sw=305&sh=305&sm=fit\n",
      "https://www.shiseido.co.uk/dw/image/v2/BCMQ_PRD/on/demandware.static/-/Sites-itemmaster_shiseido_emea/default/dwd529ce66/images/products/14322/14322_S_01.jpg?sw=305&sh=305&sm=fit\n",
      "https://www.shiseido.co.uk/dw/image/v2/BCMQ_PRD/on/demandware.static/-/Sites-itemmaster_shiseido_emea/default/dwe53c353b/images/products/13921/13921_S_01.jpg?sw=305&sh=305&sm=fit\n",
      "https://www.shiseido.co.uk/dw/image/v2/BCMQ_PRD/on/demandware.static/-/Sites-itemmaster_shiseido_emea/default/dwac94e682/images/products/768614149392/Vital_perfection-Uplifting&firming-cream-Shiseido.jpg?sw=305&sh=305&sm=fit\n"
     ]
    }
   ],
   "source": [
    "img_links = soup.find_all('img', {'class': 'thumb-image'})\n",
    "for l in img_links:\n",
    "    print(l['src'])"
   ]
  },
  {
   "cell_type": "code",
   "execution_count": 31,
   "metadata": {},
   "outputs": [],
   "source": [
    "## random scraping from the website\n",
    "\n",
    "from bs4 import BeautifulSoup\n",
    "from urllib.request import urlopen\n",
    "import re\n",
    "import random\n",
    "\n",
    "\n",
    "base_url = \"https://www.shiseido.co.uk/\"\n",
    "his = [\"/gb/en/skincare/category/days-creams/\"]"
   ]
  },
  {
   "cell_type": "code",
   "execution_count": 32,
   "metadata": {},
   "outputs": [
    {
     "name": "stdout",
     "output_type": "stream",
     "text": [
      "\n",
      "Days Creams\n",
      "      url:  /gb/en/skincare/category/days-creams/\n"
     ]
    }
   ],
   "source": [
    "url = base_url + his[-1]\n",
    "\n",
    "html = urlopen(url).read()\n",
    "soup = BeautifulSoup(html, features='lxml')\n",
    "print(soup.find('h1').get_text(), '    url: ', his[-1])"
   ]
  },
  {
   "cell_type": "code",
   "execution_count": 33,
   "metadata": {},
   "outputs": [
    {
     "name": "stdout",
     "output_type": "stream",
     "text": [
      "['/gb/en/skincare/category/days-creams/', '/gb/en/shiseido-intensive-wrinklespot-treatment-729238169562.html?cgid=S2_Category_Daycreams']\n"
     ]
    }
   ],
   "source": [
    "sub_urls = soup.find_all(\"a\", {\"class\": \"name-link\"})\n",
    "\n",
    "if len(sub_urls) != 0:\n",
    "    his.append(random.sample(sub_urls, 1)[0]['href'])\n",
    "else:\n",
    "    # no valid sub link found\n",
    "    his.pop()\n",
    "print(his)"
   ]
  },
  {
   "cell_type": "code",
   "execution_count": 34,
   "metadata": {},
   "outputs": [
    {
     "name": "stdout",
     "output_type": "stream",
     "text": [
      "0 \n",
      "\n",
      "Uplifting and Firming Cream\n",
      "\n",
      "     url:  /gb/en/shiseido-uplifting-and-firming-cream-768614164524.html?cgid=S2_Category_Daycreams\n",
      "1 \n",
      "\n",
      "Uplifting and Firming Cream\n",
      "\n",
      "     url:  /gb/en/shiseido-uplifting-and-firming-cream-768614164524.html?cgid=S2_Category_Daycreams\n",
      "2 \n",
      "\n",
      "Uplifting and Firming Cream\n",
      "\n",
      "     url:  /gb/en/shiseido-uplifting-and-firming-cream-768614164524.html?cgid=S2_Category_Daycreams\n",
      "3 \n",
      "\n",
      "Uplifting and Firming Cream\n",
      "\n",
      "     url:  /gb/en/shiseido-uplifting-and-firming-cream-768614164524.html?cgid=S2_Category_Daycreams\n",
      "4 \n",
      "\n",
      "Uplifting and Firming Cream\n",
      "\n",
      "     url:  /gb/en/shiseido-uplifting-and-firming-cream-768614164524.html?cgid=S2_Category_Daycreams\n",
      "5 \n",
      "\n",
      "Uplifting and Firming Cream\n",
      "\n",
      "     url:  /gb/en/shiseido-uplifting-and-firming-cream-768614164524.html?cgid=S2_Category_Daycreams\n",
      "6 \n",
      "\n",
      "Uplifting and Firming Cream\n",
      "\n",
      "     url:  /gb/en/shiseido-uplifting-and-firming-cream-768614164524.html?cgid=S2_Category_Daycreams\n",
      "7 \n",
      "\n",
      "Uplifting and Firming Cream\n",
      "\n",
      "     url:  /gb/en/shiseido-uplifting-and-firming-cream-768614164524.html?cgid=S2_Category_Daycreams\n",
      "8 \n",
      "\n",
      "Uplifting and Firming Cream\n",
      "\n",
      "     url:  /gb/en/shiseido-uplifting-and-firming-cream-768614164524.html?cgid=S2_Category_Daycreams\n",
      "9 \n",
      "\n",
      "Uplifting and Firming Cream\n",
      "\n",
      "     url:  /gb/en/shiseido-uplifting-and-firming-cream-768614164524.html?cgid=S2_Category_Daycreams\n"
     ]
    }
   ],
   "source": [
    "his = ['/gb/en/shiseido-uplifting-and-firming-cream-768614164524.html?cgid=S2_Category_Daycreams']\n",
    "\n",
    "for i in range(10):\n",
    "    url = base_url + his[-1]\n",
    "\n",
    "    html = urlopen(url).read()\n",
    "    soup = BeautifulSoup(html, features='lxml')\n",
    "    print(i, soup.find('h1').get_text(), '    url: ', his[-1])\n",
    "    "
   ]
  },
  {
   "cell_type": "code",
   "execution_count": 35,
   "metadata": {},
   "outputs": [
    {
     "name": "stdout",
     "output_type": "stream",
     "text": [
      "{'__cq_dnt': '1', 'dw_dnt': '1', 'dwanonymous_9409104da91e9dd2bb0eaa4a744d75e1': 'bcltdvFhcTCIHmBYXaGKcgoF99', 'dwsid': '9sa3KxK4NYYjE5AGop-F_MnVD7LJlyBt8lslGfIvOmwoH_CyczySnkNI9Go6_0qwM0kFrV9d9kNYg7D2qQV8qA==', 'shiseido_global_uk_cookieSessionFlag': 'true', 'sid': 'b6FvYHyCDkeF7l3SnQwUc1Cy1_mnrRusVKY'}\n",
      "<Response [200]>\n"
     ]
    }
   ],
   "source": [
    "## Account Login\n",
    "import requests\n",
    "\n",
    "session = requests.Session()\n",
    "payload = {'Email Address': 'z0981684563@yahoo.com.tw', 'password': 'z860323?'}\n",
    "r = session.post('https://www.shiseido.co.uk/on/demandware.store/Sites-shiseido_global_uk-Site/en_GB/Login-Show')\n",
    "print(r.cookies.get_dict())\n",
    "r = session.get(\"https://www.shiseido.co.uk/gb/en/my-account\")\n",
    "print(r)\n"
   ]
  },
  {
   "cell_type": "code",
   "execution_count": null,
   "metadata": {},
   "outputs": [],
   "source": []
  }
 ],
 "metadata": {
  "kernelspec": {
   "display_name": "Python 3",
   "language": "python",
   "name": "python3"
  },
  "language_info": {
   "codemirror_mode": {
    "name": "ipython",
    "version": 3
   },
   "file_extension": ".py",
   "mimetype": "text/x-python",
   "name": "python",
   "nbconvert_exporter": "python",
   "pygments_lexer": "ipython3",
   "version": "3.8.5"
  }
 },
 "nbformat": 4,
 "nbformat_minor": 4
}
